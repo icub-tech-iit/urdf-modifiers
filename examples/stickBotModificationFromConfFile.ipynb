{
 "cells": [
  {
   "cell_type": "code",
   "execution_count": null,
   "metadata": {},
   "outputs": [],
   "source": [
    "from urdfModifiers.core.linkModifier import LinkModifier\n",
    "from urdfModifiers.core.jointModifier import JointModifier\n",
    "from urdfModifiers import utils\n",
    "from urdfpy import URDF\n",
    "from urdfModifiers.geometry import * \n",
    "from urdfModifiers.geometry.geometry import Side\n",
    "from urdfModifiers.utils import *\n",
    "import idyntree.bindings as iDynTree\n",
    "from urdfModifiers.geometry.geometry import Limb\n",
    "from urdfModifiers.core.modification import Modification\n",
    "import configparser"
   ]
  },
  {
   "cell_type": "code",
   "execution_count": null,
   "metadata": {},
   "outputs": [],
   "source": [
    "def MoveRobotVisualization(index, delta):\n",
    "    T = iDynTree.Transform()\n",
    "    p = iDynTree.Position()\n",
    "    for k in range(3):\n",
    "        if(k== index):\n",
    "            p.setVal(k,delta)\n",
    "        else:\n",
    "            p.setVal(k,0.0)\n",
    "    \n",
    "    T.setPosition(p)\n",
    "\n",
    "    R = iDynTree.Rotation()\n",
    "    for i in range(3): \n",
    "        for j in range(3):\n",
    "            if(i == j):\n",
    "                R.setVal(i,j,1.0)\n",
    "            else:\n",
    "                R.setVal(i,j,0.0)\n",
    "    T.setRotation(R)\n",
    "    return T"
   ]
  },
  {
   "cell_type": "markdown",
   "metadata": {},
   "source": [
    "## Loading URDF"
   ]
  },
  {
   "cell_type": "code",
   "execution_count": null,
   "metadata": {},
   "outputs": [],
   "source": [
    "urdf_path =\"./models/stickBot/model.urdf\"\n",
    "output_file = \"./models/stickBotModified.urdf\"\n",
    "dummy_file = 'no_gazebo_plugins.urdf'\n",
    "robot, gazebo_plugin_text = utils.load_robot_and_gazebo_plugins(urdf_path,dummy_file)"
   ]
  },
  {
   "cell_type": "markdown",
   "metadata": {},
   "source": [
    "## Defining the modifier for stickBot"
   ]
  },
  {
   "cell_type": "code",
   "execution_count": null,
   "metadata": {},
   "outputs": [],
   "source": [
    "modifiers_mapper = {\n",
    "    'r_upper_arm': [\n",
    "        LinkModifier.from_name('r_upper_arm',robot, 0.022),\n",
    "        JointModifier.from_name('r_elbow',robot, 0.0344)\n",
    "    ],\n",
    "    'r_forearm': [\n",
    "        LinkModifier.from_name('r_forearm',robot, 0.03904),\n",
    "        JointModifier.from_name('r_wrist_pitch',robot, 0.0506)\n",
    "    ],\n",
    "    'l_upper_arm': [\n",
    "        LinkModifier.from_name('l_upper_arm',robot, 0.022),\n",
    "        JointModifier.from_name('l_elbow',robot, 0.0344)\n",
    "    ],\n",
    "    'l_forearm': [\n",
    "        LinkModifier.from_name('l_forearm',robot, 0.03904),\n",
    "        JointModifier.from_name('l_wrist_pitch',robot, 0.0506)\n",
    "    ],\n",
    "    'r_hip_3': [\n",
    "        LinkModifier.from_name('r_hip_3',robot, 0.058),\n",
    "        JointModifier.from_name('r_hip_yaw',robot, 0.1451),\n",
    "        JointModifier.from_name('r_knee',robot, 0.0536)\n",
    "    ],\n",
    "    'r_lower_leg': [\n",
    "        LinkModifier.from_name('r_lower_leg',robot, -0.03),\n",
    "        JointModifier.from_name('r_ankle_pitch',robot, -0.055989)\n",
    "    ],\n",
    "    'l_hip_3': [\n",
    "        LinkModifier.from_name('l_hip_3',robot, 0.058),\n",
    "        JointModifier.from_name('l_hip_yaw',robot, 0.1451),\n",
    "        JointModifier.from_name('l_knee',robot, 0.0536)\n",
    "    ],\n",
    "    'l_lower_leg': [\n",
    "        LinkModifier.from_name('l_lower_leg',robot, -0.03),\n",
    "        JointModifier.from_name('l_ankle_pitch',robot, -0.055989)\n",
    "    ],\n",
    "    'root_link': [\n",
    "        LinkModifier.from_name('root_link',robot, 0, Side.DEPTH, calculate_origin_from_dimensions = False),\n",
    "        JointModifier.from_name('torso_pitch',robot, -0.078, flip_direction=False),\n",
    "        JointModifier.from_name('r_hip_pitch',robot, 0.0494, take_half_length=True),\n",
    "        JointModifier.from_name('l_hip_pitch',robot, 0.0494, take_half_length=True)\n",
    "    ],\n",
    "    'torso_1': [\n",
    "        LinkModifier.from_name('torso_1',robot, 0, Side.DEPTH, calculate_origin_from_dimensions = False),\n",
    "        JointModifier.from_name('torso_yaw',robot, -0.07113, flip_direction=False),\n",
    "    ],\n",
    "    'torso_2': [\n",
    "        LinkModifier.from_name('torso_2',robot, 0, Side.DEPTH, calculate_origin_from_dimensions = False),\n",
    "        JointModifier.from_name('torso_yaw',robot, -0.07113, flip_direction=False)\n",
    "    ],\n",
    "    'chest': [\n",
    "        LinkModifier.from_name('chest',robot, 0, Side.DEPTH, calculate_origin_from_dimensions = False),\n",
    "        JointModifier.from_name('r_shoulder_pitch',robot, 0.0554, take_half_length=True, flip_direction=False),\n",
    "        JointModifier.from_name('l_shoulder_pitch',robot, 0.0554, take_half_length=True, flip_direction=False),\n",
    "        JointModifier.from_name('neck_fixed_joint',robot, 0.0607, take_half_length=True, flip_direction=False)\n",
    "    ]\n",
    "\n",
    "}"
   ]
  },
  {
   "cell_type": "markdown",
   "metadata": {},
   "source": [
    "## Loading the configuration file "
   ]
  },
  {
   "cell_type": "code",
   "execution_count": null,
   "metadata": {},
   "outputs": [],
   "source": [
    "config_file_path = \"./config/conf.ini\"\n",
    "config = configparser.ConfigParser()\n",
    "config.read(config_file_path)"
   ]
  },
  {
   "cell_type": "markdown",
   "metadata": {},
   "source": [
    "## Reading modifications from urdf file"
   ]
  },
  {
   "cell_type": "code",
   "execution_count": null,
   "metadata": {},
   "outputs": [],
   "source": [
    "for config_section in config.sections():\n",
    "    modifications = Modification.from_config_section(config[config_section])            \n",
    "    if config_section.upper() in Limb:\n",
    "        selector = Limb[config_section.upper()]\n",
    "    else: \n",
    "        selector = config_section\n",
    "    if isinstance(selector, str):\n",
    "        if selector in modifiers_mapper:\n",
    "            elements_to_modify = modifiers_mapper[selector]\n",
    "    elif (selector == Limb.RIGHT_ARM):\n",
    "        elements_to_modify = modifiers_mapper[\"r_upper_arm\"] + modifiers_mapper[\"r_forearm\"]\n",
    "    elif (selector == Limb.LEFT_ARM):\n",
    "        elements_to_modify = modifiers_mapper[\"l_upper_arm\"] + modifiers_mapper[\"l_forearm\"]\n",
    "    elif (selector == Limb.LEFT_LEG):\n",
    "        elements_to_modify = modifiers_mapper[\"l_lower_leg\"] + modifiers_mapper[\"l_hip_3\"]\n",
    "    elif (selector == Limb.RIGHT_LEG):\n",
    "        elements_to_modify = modifiers_mapper[\"r_lower_leg\"] + modifiers_mapper[\"r_hip_3\"]\n",
    "    elif (selector == Limb.ARMS):\n",
    "        elements_to_modify = modifiers_mapper[\"r_upper_arm\"] + modifiers_mapper[\"r_forearm\"] + modifiers_mapper[\"l_upper_arm\"] + modifiers_mapper[\"l_forearm\"]\n",
    "    elif (selector == Limb.LEGS):\n",
    "        elements_to_modify = modifiers_mapper[\"l_lower_leg\"] + modifiers_mapper[\"l_hip_3\"] + modifiers_mapper[\"r_lower_leg\"] + modifiers_mapper[\"r_hip_3\"]\n",
    "    elif (selector == Limb.TORSO):\n",
    "        elements_to_modify = modifiers_mapper[\"root_link\"] + modifiers_mapper[\"torso_1\"] + modifiers_mapper[\"torso_2\"] + modifiers_mapper[\"chest\"]\n",
    "    elif (selector == Limb.ALL):\n",
    "        all_modifiers = []\n",
    "        for i in modifiers_mapper:\n",
    "            all_modifiers += modifiers_mapper[i]\n",
    "        elements_to_modify = all_modifiers\n",
    "    elif (selector == Limb.NONE):\n",
    "        elements_to_modify = []\n",
    "    else:\n",
    "        elements_to_modify = []\n"
   ]
  },
  {
   "cell_type": "markdown",
   "metadata": {},
   "source": [
    "## Apply Modifications"
   ]
  },
  {
   "cell_type": "code",
   "execution_count": null,
   "metadata": {},
   "outputs": [],
   "source": [
    "for element_to_modify in elements_to_modify:\n",
    "    element_to_modify.modify(modifications)"
   ]
  },
  {
   "cell_type": "markdown",
   "metadata": {},
   "source": [
    "## Writing to urdf"
   ]
  },
  {
   "cell_type": "code",
   "execution_count": null,
   "metadata": {},
   "outputs": [],
   "source": [
    "utils.write_urdf_to_file(robot, output_file, gazebo_plugin_text)\n",
    "print(\"urdf saved in \", output_file)"
   ]
  },
  {
   "cell_type": "markdown",
   "metadata": {},
   "source": [
    "## Visualize Output "
   ]
  },
  {
   "cell_type": "code",
   "execution_count": null,
   "metadata": {},
   "outputs": [],
   "source": [
    "## Loading Urdf in iDynTree\n",
    "mdlLoaderOriginal = iDynTree.ModelLoader()\n",
    "mdlLoaderModified = iDynTree.ModelLoader()\n",
    "mdlLoaderOriginal.loadReducedModelFromFile(urdf_path,[] , 'root_link')\n",
    "mdlLoaderModified.loadReducedModelFromFile(output_file,[] ,'root_link')\n",
    "\n",
    "## Setting up the visualizer\n",
    "viz = iDynTree.Visualizer() \n",
    "vizOpt = iDynTree.VisualizerOptions()\n",
    "viz.init()\n",
    "viz.setColorPalette(\"meshcat\")\n",
    "env = viz.enviroment()\n",
    "env.setElementVisibility('floor_grid',False)\n",
    "env.setElementVisibility('world_frame',False)\n",
    "cam = viz.camera()\n",
    "cam.setPosition(iDynTree.Position(2.5,0,1.2))\n",
    "viz.camera().animator().enableMouseControl(True)\n",
    "\n",
    "## Adding the model\n",
    "viz.addModel(mdlLoaderOriginal.model(), 'originalModel')\n",
    "viz.addModel(mdlLoaderModified.model(),'modifiedModel')\n",
    "viz.modelViz('originalModel').setModelColor(iDynTree.ColorViz(iDynTree.Vector4_FromPython([1,0.2,0.2,0.2])))\n",
    "\n",
    "## Move the model to improve visibility \n",
    "T=MoveRobotVisualization(1, 1.0)\n",
    "viz.modelViz('originalModel').setPositions(T,iDynTree.VectorDynSize())\n",
    "\n",
    "## Visualizing the models \n",
    "while(viz.run()):\n",
    "    viz.draw()  "
   ]
  }
 ],
 "metadata": {
  "interpreter": {
   "hash": "916dbcbb3f70747c44a77c7bcd40155683ae19c65e1c03b4aa3499c5328201f1"
  },
  "kernelspec": {
   "display_name": "Python 3.8.10 64-bit",
   "language": "python",
   "name": "python3"
  },
  "language_info": {
   "codemirror_mode": {
    "name": "ipython",
    "version": 3
   },
   "file_extension": ".py",
   "mimetype": "text/x-python",
   "name": "python",
   "nbconvert_exporter": "python",
   "pygments_lexer": "ipython3",
   "version": "3.8.10"
  },
  "orig_nbformat": 4
 },
 "nbformat": 4,
 "nbformat_minor": 2
}
